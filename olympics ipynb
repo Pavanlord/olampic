In [1]:
import pandas as pd
In [2]:
df=pd.read_csv('summerOlymp.csv')
In [3]:
df.head()
Out[3]:
Year	City	Sport	Discipline	Athlete	Country	Gender	Event	Medal
0	1896	Athens	Aquatics	Swimming	HAJOS, Alfred	HUN	Men	100M Freestyle	Gold
1	1896	Athens	Aquatics	Swimming	HERSCHMANN, Otto	AUT	Men	100M Freestyle	Silver
2	1896	Athens	Aquatics	Swimming	DRIVAS, Dimitrios	GRE	Men	100M Freestyle For Sailors	Bronze
3	1896	Athens	Aquatics	Swimming	MALOKINIS, Ioannis	GRE	Men	100M Freestyle For Sailors	Gold
4	1896	Athens	Aquatics	Swimming	CHASAPIS, Spiridon	GRE	Men	100M Freestyle For Sailors	Silver
In [4]:
df.isnull()
Out[4]:
Year	City	Sport	Discipline	Athlete	Country	Gender	Event	Medal
0	False	False	False	False	False	False	False	False	False
1	False	False	False	False	False	False	False	False	False
2	False	False	False	False	False	False	False	False	False
3	False	False	False	False	False	False	False	False	False
4	False	False	False	False	False	False	False	False	False
...	...	...	...	...	...	...	...	...	...
31160	False	False	False	False	False	False	False	False	False
31161	False	False	False	False	False	False	False	False	False
31162	False	False	False	False	False	False	False	False	False
31163	False	False	False	False	False	False	False	False	False
31164	False	False	False	False	False	False	False	False	False
31165 rows × 9 columns

In [5]:
df.isnull().sum()
Out[5]:
Year          0
City          0
Sport         0
Discipline    0
Athlete       0
Country       4
Gender        0
Event         0
Medal         0
dtype: int64
In [6]:
type(df)
Out[6]:
pandas.core.frame.DataFrame
In [9]:
df['Sport'].unique()
Out[9]:
array(['Aquatics', 'Athletics', 'Cycling', 'Fencing', 'Gymnastics',
       'Shooting', 'Tennis', 'Weightlifting', 'Wrestling', 'Archery',
       'Basque Pelota', 'Cricket', 'Croquet', 'Equestrian', 'Football',
       'Golf', 'Polo', 'Rowing', 'Rugby', 'Sailing', 'Tug of War',
       'Boxing', 'Lacrosse', 'Roque', 'Hockey', 'Jeu de paume', 'Rackets',
       'Skating', 'Water Motorsports', 'Modern Pentathlon', 'Ice Hockey',
       'Basketball', 'Canoe / Kayak', 'Handball', 'Judo', 'Volleyball',
       'Table Tennis', 'Badminton', 'Baseball', 'Softball', 'Taekwondo',
       'Triathlon', 'Canoe'], dtype=object)
In [19]:
df['Gender'].unique()
Out[19]:
array(['Men', 'Women'], dtype=object)
Summer Olympics Data Analysis Assignment
1. In how many cities Summer Olympics is held so far?
In [7]:
df['City'].unique()
Out[7]:
array(['Athens', 'Paris', 'St Louis', 'London', 'Stockholm', 'Antwerp',
       'Amsterdam', 'Los Angeles', 'Berlin', 'Helsinki',
       'Melbourne / Stockholm', 'Rome', 'Tokyo', 'Mexico', 'Munich',
       'Montreal', 'Moscow', 'Seoul', 'Barcelona', 'Atlanta', 'Sydney',
       'Beijing'], dtype=object)
In [8]:
len(df['City'].unique())
Out[8]:
22
2. Which sport is having most number of Gold Medals so far? (Top 5)
In [28]:
sportInOlympics = df[ (df.Medal == 'Gold')]
sportInOlympics.head()
Out[28]:
Year	City	Sport	Discipline	Athlete	Country	Gender	Event	Medal
0	1896	Athens	Aquatics	Swimming	HAJOS, Alfred	HUN	Men	100M Freestyle	Gold
3	1896	Athens	Aquatics	Swimming	MALOKINIS, Ioannis	GRE	Men	100M Freestyle For Sailors	Gold
6	1896	Athens	Aquatics	Swimming	HAJOS, Alfred	HUN	Men	1200M Freestyle	Gold
9	1896	Athens	Aquatics	Swimming	NEUMANN, Paul	AUT	Men	400M Freestyle	Gold
13	1896	Athens	Athletics	Athletics	BURKE, Thomas	USA	Men	100M	Gold
In [29]:
data=[]
for sport in sportInOlympics['Sport'].unique():
    data.append([sport,len(sportInOlympics[sportInOlympics['Sport']==sport])])
data=pd.DataFrame(data, columns=['Sport','No. of gold medals']) 
data=data.sort_values(by='No. of gold medals', ascending=False).head()
In [30]:
data
Out[30]:
Sport	No. of gold medals
0	Aquatics	1421
1	Athletics	1215
17	Rowing	890
4	Gymnastics	820
3	Fencing	552
In [31]:
data.plot(x='Sport',y='No. of gold medals',kind='bar')
Out[31]:
<AxesSubplot:xlabel='Sport'>

3. Which sport is having most number of medals so far? (Top 5)
In [10]:
data=[]
for sport in df['Sport'].unique():
    data.append([sport,len(df[df['Sport']==sport])])
data=pd.DataFrame(data, columns=['Sport','No. of medals']) 
data=data.sort_values(by='No. of medals', ascending=False).head()
In [11]:
data
Out[11]:
Sport	No. of medals
0	Aquatics	4170
1	Athletics	3638
17	Rowing	2667
4	Gymnastics	2307
3	Fencing	1613
In [12]:
data.plot(x='Sport',y='No. of medals',kind='bar')
Out[12]:
<AxesSubplot:xlabel='Sport'>

4. Which player has won most number of medals? (Top 5)
In [13]:
data=[]
for sport in df['Athlete'].unique():
    data.append([sport,len(df[df['Athlete']==sport])])
data=pd.DataFrame(data, columns=['Athlete','No. of medals']) 
data=data.sort_values(by='No. of medals', ascending=False).head()
In [14]:
data
Out[14]:
Athlete	No. of medals
18640	PHELPS, Michael	22
7197	LATYNINA, Larisa	18
9948	ANDRIANOV, Nikolay	15
6591	ONO, Takashi	13
5103	MANGIAROTTI, Edoardo	13
In [15]:
data.plot(x='Athlete',y='No. of medals',kind='bar')
Out[15]:
<AxesSubplot:xlabel='Athlete'>

5. Which player has won most number Gold Medals of medals? (Top 5)
In [24]:
playerInOlympics = df[ (df.Medal == 'Gold')]
In [25]:
playerInOlympics.head()
Out[25]:
Year	City	Sport	Discipline	Athlete	Country	Gender	Event	Medal
0	1896	Athens	Aquatics	Swimming	HAJOS, Alfred	HUN	Men	100M Freestyle	Gold
3	1896	Athens	Aquatics	Swimming	MALOKINIS, Ioannis	GRE	Men	100M Freestyle For Sailors	Gold
6	1896	Athens	Aquatics	Swimming	HAJOS, Alfred	HUN	Men	1200M Freestyle	Gold
9	1896	Athens	Aquatics	Swimming	NEUMANN, Paul	AUT	Men	400M Freestyle	Gold
13	1896	Athens	Athletics	Athletics	BURKE, Thomas	USA	Men	100M	Gold
In [33]:
data=[]
for sport in playerInOlympics['Athlete'].unique():
    data.append([sport,len(playerInOlympics[playerInOlympics['Athlete']==sport])])
data=pd.DataFrame(data, columns=['Athlete','No. of gold medals']) 
data=data.sort_values(by='No. of gold medals', ascending=False).head()
In [34]:
data
Out[34]:
Athlete	No. of gold medals
6851	PHELPS, Michael	18
3320	SPITZ, Mark	9
2714	LATYNINA, Larisa	9
4630	LEWIS, Carl	9
907	NURMI, Paavo	9
In [27]:
data.plot(x='Athlete',y='No. of gold medals',kind='bar')
Out[27]:
<AxesSubplot:xlabel='Athlete'>

6. In which year India won first Gold Medal in Summer Olympics?
In [35]:
IndiaInOlympics = df[(df.Country=="IND") & (df.Medal == 'Gold')]
IndiaInOlympics.head(1)
Out[35]:
Year	City	Sport	Discipline	Athlete	Country	Gender	Event	Medal
5512	1928	Amsterdam	Hockey	Hockey	ALLEN, Richard James	IND	Men	Hockey	Gold
7. Which event is most popular in terms on number of players? (Top 5)
In [16]:
data=[]
for sport in df['Event'].unique():
    data.append([sport,len(df[df['Event']==sport])])
data=pd.DataFrame(data, columns=['Event','No. of players']) 
data=data.sort_values(by='No. of players', ascending=False).head()
In [17]:
data
Out[17]:
Event	No. of players
80	Football	1497
176	Hockey	1422
138	Team Competition	1147
327	Basketball	1012
337	Handball	973
In [18]:
data.plot(x='Event',y='No. of players',kind='bar')
Out[18]:
<AxesSubplot:xlabel='Event'>

8. Which sport is having most female Gold Medalists? (Top 5)
In [36]:
womenInOlympics = df[(df.Gender == 'Women') & (df.Medal == 'Gold')]
data=[]
for sport in womenInOlympics['Sport'].unique():
    data.append([sport,len(womenInOlympics[womenInOlympics['Sport']==sport])])
data=pd.DataFrame(data, columns=['Sport','No. of female gold medalists']) 
data=data.sort_values(by='No. of female gold medalists', ascending=False).head()
In [37]:
data
Out[37]:
Sport	No. of female gold medalists
4	Aquatics	589
7	Athletics	389
8	Gymnastics	268
14	Rowing	217
11	Volleyball	166
In [38]:
data.plot(x='Sport',y='No. of female gold medalists',kind='bar')
Out[38]:
<AxesSubplot:xlabel='Sport'>

In [ ]:
